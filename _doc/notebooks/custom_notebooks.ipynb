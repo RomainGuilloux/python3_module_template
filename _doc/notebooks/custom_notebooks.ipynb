{
 "cells": [
  {
   "cell_type": "markdown",
   "metadata": {},
   "source": [
    "# Custom Notebooks"
   ]
  },
  {
   "cell_type": "code",
   "execution_count": 4,
   "metadata": {
    "collapsed": false
   },
   "outputs": [
    {
     "data": {
      "text/html": [
       "<div id=\"my_id_menu_nb\">run previous cell, wait for 2 seconds</div>\n",
       "<script>\n",
       "var update_menu = function() {\n",
       "    var els = document.getElementsByClassName(\"sphinxsidebar\");\n",
       "    var level;\n",
       "    if (els.length > 0) level = \"h2\";\n",
       "    else level = \"h3\";\n",
       "    var anchors = document.getElementsByTagName(level);\n",
       "    var menu = document.getElementById(\"my_id_menu_nb\");\n",
       "    var i;\n",
       "    var text_menu = \"<ul>\";\n",
       "    var href;\n",
       "    for (i = 0; i < anchors.length; i++) {\n",
       "var title = anchors[i].textContent;\n",
       "title = title.substring(0,title.length-1);\n",
       "if (anchors[i].hasAttribute(\"id\"))\n",
       "    href = anchors[i].id;\n",
       "else\n",
       "    href = anchors[i].parentNode.id;\n",
       "text_menu += '<li><a href=\"#' + href + '\">' + title + '</a></li>';\n",
       "    }\n",
       "    text_menu += \"</ul>\"\n",
       "    menu.innerHTML=text_menu;\n",
       "};\n",
       "window.setTimeout(update_menu,2000);\n",
       "</script>"
      ],
      "text/plain": [
       "<IPython.core.display.HTML object>"
      ]
     },
     "execution_count": 4,
     "metadata": {},
     "output_type": "execute_result"
    }
   ],
   "source": [
    "from pyquickhelper.ipythonhelper import add_notebook_menu\n",
    "add_notebook_menu()"
   ]
  },
  {
   "cell_type": "code",
   "execution_count": 3,
   "metadata": {
    "collapsed": false
   },
   "outputs": [
    {
     "data": {
      "text/plain": [
       "['custom_notebooks.ipynb']"
      ]
     },
     "execution_count": 3,
     "metadata": {},
     "output_type": "execute_result"
    }
   ],
   "source": [
    "import os\n",
    "os.listdir(\".\")"
   ]
  },
  {
   "cell_type": "markdown",
   "metadata": {
    "collapsed": false
   },
   "source": [
    "### A section in the notebook"
   ]
  },
  {
   "cell_type": "markdown",
   "metadata": {},
   "source": [
    "### Other section"
   ]
  },
  {
   "cell_type": "code",
   "execution_count": null,
   "metadata": {
    "collapsed": true
   },
   "outputs": [],
   "source": []
  }
 ],
 "metadata": {
  "kernelspec": {
   "display_name": "Python 3",
   "language": "python",
   "name": "python3"
  },
  "language_info": {
   "codemirror_mode": {
    "name": "ipython",
    "version": 3
   },
   "file_extension": ".py",
   "mimetype": "text/x-python",
   "name": "python",
   "nbconvert_exporter": "python",
   "pygments_lexer": "ipython3",
   "version": "3.4.3"
  }
 },
 "nbformat": 4,
 "nbformat_minor": 0
}
